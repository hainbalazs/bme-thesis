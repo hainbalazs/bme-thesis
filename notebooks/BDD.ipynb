{
 "cells": [
  {
   "cell_type": "markdown",
   "id": "charged-noise",
   "metadata": {},
   "source": [
    "# Generating rules with different complexity"
   ]
  },
  {
   "cell_type": "code",
   "execution_count": 6,
   "id": "olive-teacher",
   "metadata": {},
   "outputs": [],
   "source": [
    "import pandas as pd\n",
    "import numpy as np\n",
    "import matplotlib.pyplot as plt\n",
    "\n",
    "import aix360.algorithms.rbm\n",
    "from aix360.algorithms.rbm import FeatureBinarizer\n",
    "from aix360.algorithms.rbm import BooleanRuleCG\n",
    "\n",
    "from sklearn.preprocessing import OneHotEncoder\n",
    "from sklearn.compose import ColumnTransformer\n",
    "from sklearn import metrics\n",
    "# ignore warning related to deprecated modules inside packages\n",
    "import warnings\n",
    "warnings.simplefilter(action='ignore', category=FutureWarning)\n",
    "warnings.simplefilter(action='ignore', category=UserWarning)\n",
    "# train with fixed seed to eliminate different results\n",
    "np.random.seed(777)"
   ]
  },
  {
   "cell_type": "code",
   "execution_count": 7,
   "id": "southern-permit",
   "metadata": {},
   "outputs": [],
   "source": [
    "data = pd.read_csv(\"../datasets/phone-price/test.csv\")"
   ]
  },
  {
   "cell_type": "code",
   "execution_count": 8,
   "id": "bd1bce6a",
   "metadata": {},
   "outputs": [
    {
     "data": {
      "text/plain": [
       "Index(['id', 'battery_power', 'blue', 'clock_speed', 'dual_sim', 'fc',\n",
       "       'four_g', 'int_memory', 'm_dep', 'mobile_wt', 'n_cores', 'pc',\n",
       "       'px_height', 'px_width', 'ram', 'sc_h', 'sc_w', 'talk_time', 'three_g',\n",
       "       'touch_screen', 'wifi'],\n",
       "      dtype='object')"
      ]
     },
     "execution_count": 8,
     "metadata": {},
     "output_type": "execute_result"
    }
   ],
   "source": [
    "data.columns"
   ]
  },
  {
   "cell_type": "code",
   "execution_count": 10,
   "id": "covered-passage",
   "metadata": {},
   "outputs": [],
   "source": [
    "categorical_features = ['blue', 'dual_sim', 'four_g','three_g', 'touch_screen', 'wifi']\n",
    "fb = FeatureBinarizer(colCateg=categorical_features, negations=True, returnOrd=True)\n",
    "\n",
    "X_bin, X_std = fb.fit_transform(data)"
   ]
  },
  {
   "cell_type": "code",
   "execution_count": 17,
   "id": "subsequent-venture",
   "metadata": {},
   "outputs": [],
   "source": [
    "Y = data[\"status\"].map(lambda x: 1 if x == \"Placed\" else 0).astype(int)"
   ]
  },
  {
   "cell_type": "code",
   "execution_count": 18,
   "id": "international-delight",
   "metadata": {},
   "outputs": [],
   "source": [
    "def explain_with_BRCG(X, y, CNF=False, lambda0=1e-2, lambda1=1e-3, verbose=True):\n",
    "    # Instantiate BRCG with small complexity penalty\n",
    "    br_model = BooleanRuleCG(lambda0, lambda1, CNF=False)\n",
    "    # Train, print, and evaluate model\n",
    "    br_model.fit(X, y)\n",
    "    if verbose:\n",
    "        print('Training accuracy:', metrics.accuracy_score(y, br_model.predict(X)))\n",
    "    if br_model.CNF:\n",
    "        print('Predict Y=0 if ANY of the following rules are satisfied, otherwise Y=1:')\n",
    "    else:\n",
    "        print('Predict Y=1 if ANY of the following rules are satisfied, otherwise Y=0:')\n",
    "    print(br_model.explain()['rules'])\n",
    "    return br_model"
   ]
  },
  {
   "cell_type": "code",
   "execution_count": 19,
   "id": "perceived-foster",
   "metadata": {},
   "outputs": [
    {
     "name": "stdout",
     "output_type": "stream",
     "text": [
      "Learning DNF rule with complexity parameters lambda0=0.01, lambda1=0.001\n",
      "Initial LP solved\n",
      "Iteration: 1, Objective: 0.1970\n",
      "Iteration: 2, Objective: 0.1664\n",
      "Iteration: 3, Objective: 0.1587\n",
      "Iteration: 4, Objective: 0.1505\n",
      "Iteration: 5, Objective: 0.1417\n",
      "Iteration: 6, Objective: 0.1359\n",
      "Iteration: 7, Objective: 0.1251\n",
      "Iteration: 8, Objective: 0.1241\n",
      "Iteration: 9, Objective: 0.1228\n",
      "Iteration: 10, Objective: 0.1188\n",
      "Iteration: 11, Objective: 0.1173\n",
      "Iteration: 12, Objective: 0.1161\n",
      "Iteration: 13, Objective: 0.1151\n",
      "Iteration: 14, Objective: 0.1143\n",
      "Iteration: 15, Objective: 0.1140\n",
      "Iteration: 16, Objective: 0.1129\n",
      "Iteration: 17, Objective: 0.1129\n",
      "Iteration: 18, Objective: 0.1124\n",
      "Iteration: 19, Objective: 0.1124\n",
      "Training accuracy: 0.9302325581395349\n",
      "Predict Y=1 if ANY of the following rules are satisfied, otherwise Y=0:\n",
      "['ssc_p > 64.00 AND hsc_p > 65.00', 'ssc_p > 70.00 AND hsc_p <= 62.00', 'hsc_p > 52.00 AND degree_p > 65.00 AND mba_p <= 65.47', 'ssc_p > 52.00 AND hsc_p > 52.00 AND degree_t != Sci&Tech AND mba_p <= 58.78', 'ssc_p > 52.00 AND degree_p <= 72.13 AND degree_p > 60.00 AND etest_p <= 92.00 AND etest_p > 62.00 AND specialisation not ']\n"
     ]
    }
   ],
   "source": [
    "rules = explain_with_BRCG(X_bin, Y)"
   ]
  },
  {
   "cell_type": "code",
   "execution_count": 20,
   "id": "amended-dryer",
   "metadata": {},
   "outputs": [],
   "source": [
    "simple_dnf = ['ssc_p > 64.00', 'ssc_p > 52.00 AND hsc_p > 52.00 AND mba_p <= 58.78']\n",
    "\n",
    "cat_test_dnf = ['ssc_p > 32.00 AND degree_t == Sci&Tech', 'mba_p <= 58.78 AND degree_t == Marketing']\n",
    "\n",
    "middle_dnf_desc = ['ssc_p > 64.00 AND hsc_p > 65.00', \n",
    "                   'ssc_p > 52.00 AND hsc_p > 52.00 AND degree_t != Sci&Tech AND mba_p <= 58.78',\n",
    "                'ssc_p > 32.00 AND degree_t != Sci&Tech']\n",
    "\n",
    "middle_dnf_asc = ['ssc_p > 32.00 AND degree_t != Sci&Tech',\n",
    "                  'ssc_p > 52.00 AND hsc_p > 52.00 AND degree_t != Sci&Tech AND mba_p <= 58.78',\n",
    "                  'ssc_p > 64.00 AND hsc_p > 65.00']\n",
    "\n",
    "complex_dnf = ['ssc_p > 64.00 AND hsc_p > 74.73',\n",
    " 'ssc_p > 52.00 AND ssc_b not  AND workex  ',\n",
    " 'ssc_p > 67.00 AND degree_p <= 69.58 AND mba_p <= 67.14',\n",
    " 'hsc_b   AND hsc_s != Commerce AND degree_p > 67.44',\n",
    " 'ssc_p > 64.00 AND hsc_p > 52.00 AND degree_p > 67.44',\n",
    " 'hsc_p > 52.00 AND etest_p <= 55.80 AND specialisation  ',\n",
    " 'hsc_p <= 67.52 AND hsc_p > 52.00 AND etest_p <= 71.00 AND mba_p <= 54.99',\n",
    " 'gender   AND ssc_p > 52.00 AND degree_p <= 72.13 AND degree_p > 60.00 AND etest_p > 55.80 AND mba_p <= 70.68']\n"
   ]
  },
  {
   "cell_type": "markdown",
   "id": "remarkable-cinema",
   "metadata": {},
   "source": [
    "# Creating Boolean Decision Diagrams"
   ]
  },
  {
   "cell_type": "markdown",
   "id": "circular-senegal",
   "metadata": {},
   "source": [
    "## Using the package PyEDA"
   ]
  },
  {
   "cell_type": "code",
   "execution_count": 21,
   "id": "polish-brunswick",
   "metadata": {},
   "outputs": [
    {
     "name": "stdout",
     "output_type": "stream",
     "text": [
      "Requirement already satisfied: pyeda in /Users/hainb/miniconda3/lib/python3.8/site-packages (0.28.0)\n",
      "\u001b[33mWARNING: You are using pip version 21.0.1; however, version 21.1.1 is available.\n",
      "You should consider upgrading via the '/Users/hainb/miniconda3/bin/python -m pip install --upgrade pip' command.\u001b[0m\n"
     ]
    }
   ],
   "source": [
    "!/Users/hainb/miniconda3/bin/python -m pip install pyeda"
   ]
  },
  {
   "cell_type": "code",
   "execution_count": 1,
   "id": "earlier-probability",
   "metadata": {},
   "outputs": [],
   "source": [
    "from pyeda.inter import *"
   ]
  },
  {
   "cell_type": "markdown",
   "id": "manual-booth",
   "metadata": {},
   "source": [
    "## Transforming the terms into logical variables"
   ]
  },
  {
   "cell_type": "code",
   "execution_count": 2,
   "id": "prompt-chain",
   "metadata": {},
   "outputs": [],
   "source": [
    "import random\n",
    "import string\n",
    "\n",
    "class LogicalOrdinalValue:\n",
    "    class Term:\n",
    "        def __init__(self, expr):\n",
    "            parts = expr.split()\n",
    "            if len(parts) != 3:\n",
    "                raise ValueError\n",
    "        \n",
    "            self.value = float(parts[2])\n",
    "            self.op = parts[1]\n",
    "            self.attr = parts[0]\n",
    "            \n",
    "        def get_expr(self):\n",
    "            return f\"{self.attr} {self.op} {self.value}\"\n",
    "            \n",
    "            \n",
    "    def __init__(self, expr, landmarks):\n",
    "        if(expr.split()[0] not in landmarks.keys()):\n",
    "            self.term = expr\n",
    "            self.type = \"categorical\"\n",
    "            self.logical_v = None\n",
    "            self.le = self.name_cat_value(expr)\n",
    "        else:\n",
    "            self.term = self.Term(expr)\n",
    "            self.type = \"ordinal\"\n",
    "            self.logical_v = self.v(self.term, landmarks[self.term.attr]).astype(int)\n",
    "            self.le = f\"{self.term.attr}_{self.v2bin(self.logical_v)}\"\n",
    "        \n",
    "    def v(self, term, landmark):\n",
    "        value = term.value\n",
    "        op = term.op\n",
    "        #ezen meg mindig kell dolgozni....\n",
    "        result = np.zeros(9)\n",
    "        for i, thr in enumerate(landmark):\n",
    "            if op == \">\":\n",
    "                if value < landmark[i]:\n",
    "                    result[i] = 1\n",
    "            elif op == \"<=\":\n",
    "                if value >= landmark[i]:\n",
    "                    result[i] = 1\n",
    "            else: # =\n",
    "                if value < landmark[i] and i != 0:\n",
    "                    result[i-1] = 1\n",
    "                    break\n",
    "                    \n",
    "        return result\n",
    "    \n",
    "    def v2bin(self, arr):\n",
    "        return np.sum((2 ** np.arange(arr.shape[0])) * arr ).astype(int)\n",
    "    \n",
    "    def name_cat_value(self, expr):\n",
    "        # naming: attr_c_[in]v\n",
    "        parts = expr.split()\n",
    "        op = \"i\" if len(parts) > 1 and (parts[1] == \"==\" or parts[1] == \"not\") else \"n\"\n",
    "        if len(parts) == 3:\n",
    "            c = parts[2].translate(str.maketrans('','',string.punctuation))\n",
    "        else:\n",
    "            c = \"0\"\n",
    "        return f\"{parts[0]}_c_{op}{c}\""
   ]
  },
  {
   "cell_type": "code",
   "execution_count": 3,
   "id": "conscious-climb",
   "metadata": {},
   "outputs": [],
   "source": [
    "class TransformLogical:\n",
    "    def __init__(self, ruleset, landmark):\n",
    "        self.landmark = landmark\n",
    "        self.transformed_rules = []\n",
    "        for rule in ruleset:\n",
    "            terms = rule.split(\" AND \")\n",
    "            self.transformed_rules.append([LogicalOrdinalValue(term, landmark) for term in terms])\n",
    "                \n",
    "                \n",
    "    def get_expr(self):\n",
    "        result = \"\"\n",
    "        for rule in self.transformed_rules:\n",
    "            for terms in rule:\n",
    "                result += terms.le\n",
    "                result += \" & \"\n",
    "            result = result.rstrip(\" & \")\n",
    "            result += \" | \"\n",
    "        return result.rstrip(\" | \")\n",
    "    \n",
    "    \n",
    "    def add_ord_impl(self, x, y, const_list):\n",
    "        dim = len(x.logical_v)\n",
    "        x_and_y = np.bitwise_and(x.logical_v, y.logical_v)\n",
    "        mask = np.zeros(dim).astype(int)\n",
    "        mask[0] = 1\n",
    "        mask[-1] = 1\n",
    "        if np.count_nonzero(x_and_y) == 0:\n",
    "            const_list.append(expr(f\"{x.le} <=> ~ {y.le}\"))\n",
    "        elif np.count_nonzero(np.bitwise_and(x_and_y, mask)) != 0:\n",
    "            if x.v2bin(x.logical_v) < y.v2bin(y.logical_v):\n",
    "                const_list.append(expr(f\"{x.le} => {y.le}\"))\n",
    "        \n",
    "    \n",
    "    def make_constraints(self):\n",
    "        cat_constraints = dict()\n",
    "        ord_constraints = []\n",
    "        flat_rules = list(np.concatenate(self.transformed_rules).flat)\n",
    "        # could be n*logn\n",
    "        for x in flat_rules:\n",
    "            if x.type == \"categorical\":\n",
    "                attr = x.term.split()[0]\n",
    "                op = x.le.split('_')[-1].startswith(\"i\")\n",
    "                if op:\n",
    "                    if attr not in cat_constraints:\n",
    "                        cat_constraints[attr] = list()\n",
    "                    cat_constraints[attr].append(x.le)\n",
    "            else:\n",
    "                for y in flat_rules:\n",
    "                    if y.type == \"ordinal\" and x.term.attr == y.term.attr and x != y:\n",
    "                        self.add_ord_impl(x, y, ord_constraints)\n",
    "                    \n",
    "        onehot_list = []\n",
    "        for onehot in cat_constraints.values():\n",
    "            if len(onehot) > 1:\n",
    "                onehot_list.append(OneHot0(*onehot))\n",
    "            \n",
    "        onehot_expr = And(*onehot_list)\n",
    "        impl_expr = And(*ord_constraints)\n",
    "        return onehot_expr\n",
    "    \n",
    "    \n",
    "    def get_expr_w_constraints(self):\n",
    "        main_expr = expr(self.get_expr())\n",
    "        constraints = self.make_constraints()\n",
    "        return And(main_expr, constraints)"
   ]
  },
  {
   "cell_type": "code",
   "execution_count": 4,
   "id": "b8e6c26f",
   "metadata": {},
   "outputs": [],
   "source": [
    "s = ['ram > 2479.80', 'battery_power > 1403.00 AND px_width > 669.90 AND ram > 1751.20', 'px_height > 223.00 AND px_width > 1244.00 AND ram > 2129.50']"
   ]
  },
  {
   "cell_type": "code",
   "execution_count": 19,
   "id": "ordinary-cedar",
   "metadata": {},
   "outputs": [],
   "source": [
    "e = TransformLogical(s, fb.thresh)"
   ]
  },
  {
   "cell_type": "code",
   "execution_count": 21,
   "id": "13cd549b",
   "metadata": {},
   "outputs": [
    {
     "data": {
      "text/plain": [
       "Or(ram_480, And(ram_504, px_width_510, battery_power_448), And(ram_496, px_width_496, px_height_508))"
      ]
     },
     "execution_count": 21,
     "metadata": {},
     "output_type": "execute_result"
    }
   ],
   "source": [
    "e.get_expr_w_constraints()"
   ]
  },
  {
   "cell_type": "code",
   "execution_count": 26,
   "id": "invisible-burns",
   "metadata": {},
   "outputs": [
    {
     "data": {
      "text/plain": [
       "And(Or(~a, ~b), Or(~a, ~c), Or(~b, ~c))"
      ]
     },
     "execution_count": 26,
     "metadata": {},
     "output_type": "execute_result"
    }
   ],
   "source": [
    "OneHot0(expr(\"a\"), expr(\"b\"), expr(\"c\"))"
   ]
  },
  {
   "cell_type": "code",
   "execution_count": 18,
   "id": "cardiac-thong",
   "metadata": {
    "scrolled": true
   },
   "outputs": [
    {
     "data": {
      "text/plain": [
       "['ram > 2479.80',\n",
       " 'battery_power > 1403.00 AND px_width > 669.90 AND ram > 1751.20',\n",
       " 'px_height > 223.00 AND px_width > 1244.00 AND ram > 2129.50']"
      ]
     },
     "execution_count": 18,
     "metadata": {},
     "output_type": "execute_result"
    }
   ],
   "source": [
    "s"
   ]
  },
  {
   "cell_type": "code",
   "execution_count": null,
   "id": "dietary-gravity",
   "metadata": {},
   "outputs": [],
   "source": []
  },
  {
   "cell_type": "code",
   "execution_count": 28,
   "id": "political-johnson",
   "metadata": {},
   "outputs": [],
   "source": [
    "mid_logical_desc = expr(e.get_expr())\n",
    "mid_logical_f_desc = expr2bdd(mid_logical_desc)"
   ]
  },
  {
   "cell_type": "markdown",
   "id": "negative-orange",
   "metadata": {},
   "source": [
    "### Introducing big ==> small implication"
   ]
  },
  {
   "cell_type": "code",
   "execution_count": null,
   "id": "postal-journey",
   "metadata": {},
   "outputs": [],
   "source": [
    "expr(\"a=>b\")"
   ]
  },
  {
   "cell_type": "code",
   "execution_count": null,
   "id": "limited-continuity",
   "metadata": {
    "scrolled": true
   },
   "outputs": [],
   "source": [
    "mid_imp_desc = And(expr(\"(ssc_p_496 => ssc_p_511) & (ssc_p_496 => ssc_p_510) & (ssc_p_511 => ssc_p_510)\"), mid_logical_desc)"
   ]
  },
  {
   "cell_type": "code",
   "execution_count": null,
   "id": "amber-thesaurus",
   "metadata": {},
   "outputs": [],
   "source": [
    "mid_imp_desc = expr2bdd(mid_imp)"
   ]
  },
  {
   "cell_type": "code",
   "execution_count": null,
   "id": "broken-argument",
   "metadata": {},
   "outputs": [],
   "source": [
    "mid_imp_asc = expr2bdd(And(expr(\"(ssc_p_496 => ssc_p_511) & (ssc_p_496 => ssc_p_510) & (ssc_p_511 => ssc_p_510)\"), mid_f_asc))"
   ]
  },
  {
   "cell_type": "markdown",
   "id": "medieval-fraction",
   "metadata": {},
   "source": [
    "## Visualizing the BDD"
   ]
  },
  {
   "cell_type": "code",
   "execution_count": null,
   "id": "extended-haiti",
   "metadata": {},
   "outputs": [],
   "source": [
    "!pip3 install gvmagic"
   ]
  },
  {
   "cell_type": "code",
   "execution_count": 25,
   "id": "lovely-modeling",
   "metadata": {},
   "outputs": [],
   "source": [
    "import gvmagic\n",
    "%load_ext gvmagic"
   ]
  },
  {
   "cell_type": "markdown",
   "id": "front-jacob",
   "metadata": {},
   "source": [
    "### Simple ruleset "
   ]
  },
  {
   "cell_type": "raw",
   "id": "shared-moderator",
   "metadata": {},
   "source": [
    "simple_dnf = ['ssc_p > 64.00', 'ssc_p > 52.00 AND hsc_p > 52.00 AND mba_p <= 58.78']"
   ]
  },
  {
   "cell_type": "code",
   "execution_count": null,
   "id": "identical-conducting",
   "metadata": {
    "scrolled": false
   },
   "outputs": [],
   "source": [
    "%dotobj f_simple"
   ]
  },
  {
   "cell_type": "markdown",
   "id": "exempt-diagnosis",
   "metadata": {},
   "source": [
    "### Complex ruleset without implication"
   ]
  },
  {
   "cell_type": "code",
   "execution_count": 29,
   "id": "considerable-liver",
   "metadata": {
    "scrolled": false
   },
   "outputs": [
    {
     "data": {
      "image/svg+xml": [
       "<svg height=\"1347pt\" viewBox=\"0.00 0.00 571.09 1346.61\" width=\"571pt\" xmlns=\"http://www.w3.org/2000/svg\" xmlns:xlink=\"http://www.w3.org/1999/xlink\">\n",
       "<g class=\"graph\" id=\"graph0\" transform=\"scale(1 1) rotate(0) translate(4 1342.6148)\">\n",
       "<title>BDD</title>\n",
       "<polygon fill=\"#ffffff\" points=\"-4,4 -4,-1342.6148 567.0892,-1342.6148 567.0892,4 -4,4\" stroke=\"transparent\"/>\n",
       "<!-- n4402227792 -->\n",
       "<g class=\"node\" id=\"node1\">\n",
       "<title>n4402227792</title>\n",
       "<polygon fill=\"none\" points=\"463.8962,-36 409.8962,-36 409.8962,0 463.8962,0 463.8962,-36\" stroke=\"#000000\"/>\n",
       "<text fill=\"#000000\" font-family=\"Times,serif\" font-size=\"14.00\" text-anchor=\"middle\" x=\"436.8962\" y=\"-14.3\">0</text>\n",
       "</g>\n",
       "<!-- n4402227856 -->\n",
       "<g class=\"node\" id=\"node2\">\n",
       "<title>n4402227856</title>\n",
       "<polygon fill=\"none\" points=\"130.8962,-36 76.8962,-36 76.8962,0 130.8962,0 130.8962,-36\" stroke=\"#000000\"/>\n",
       "<text fill=\"#000000\" font-family=\"Times,serif\" font-size=\"14.00\" text-anchor=\"middle\" x=\"103.8962\" y=\"-14.3\">1</text>\n",
       "</g>\n",
       "<!-- n5470270224 -->\n",
       "<g class=\"node\" id=\"node3\">\n",
       "<title>n5470270224</title>\n",
       "<ellipse cx=\"163.8962\" cy=\"-168.2428\" fill=\"none\" rx=\"64.9885\" ry=\"64.9885\" stroke=\"#000000\"/>\n",
       "<text fill=\"#000000\" font-family=\"Times,serif\" font-size=\"14.00\" text-anchor=\"middle\" x=\"163.8962\" y=\"-164.5428\">px_height_508</text>\n",
       "</g>\n",
       "<!-- n5470270224&#45;&#45;n4402227792 -->\n",
       "<g class=\"edge\" id=\"edge1\">\n",
       "<title>n5470270224--n4402227792</title>\n",
       "<path d=\"M203.8503,-116.4887C214.05,-105.6581 225.6315,-95.0862 237.8962,-87 293.1527,-50.569 369.7518,-31.1611 409.8914,-22.9161\" fill=\"none\" stroke=\"#000000\" stroke-dasharray=\"5,2\"/>\n",
       "<text fill=\"#000000\" font-family=\"Times,serif\" font-size=\"14.00\" text-anchor=\"middle\" x=\"302.8962\" y=\"-57.8\">0</text>\n",
       "</g>\n",
       "<!-- n5470270224&#45;&#45;n4402227856 -->\n",
       "<g class=\"edge\" id=\"edge2\">\n",
       "<title>n5470270224--n4402227856</title>\n",
       "<path d=\"M139.6648,-107.5664C129.3873,-81.8309 118.1711,-53.745 111.0898,-36.0132\" fill=\"none\" stroke=\"#000000\"/>\n",
       "<text fill=\"#000000\" font-family=\"Times,serif\" font-size=\"14.00\" text-anchor=\"middle\" x=\"126.8962\" y=\"-57.8\">1</text>\n",
       "</g>\n",
       "<!-- n5470271312 -->\n",
       "<g class=\"node\" id=\"node4\">\n",
       "<title>n5470271312</title>\n",
       "<ellipse cx=\"482.8962\" cy=\"-381.7284\" fill=\"none\" rx=\"63.0888\" ry=\"63.0888\" stroke=\"#000000\"/>\n",
       "<text fill=\"#000000\" font-family=\"Times,serif\" font-size=\"14.00\" text-anchor=\"middle\" x=\"482.8962\" y=\"-378.0284\">px_width_496</text>\n",
       "</g>\n",
       "<!-- n5470271312&#45;&#45;n4402227792 -->\n",
       "<g class=\"edge\" id=\"edge3\">\n",
       "<title>n5470271312--n4402227792</title>\n",
       "<path d=\"M481.8325,-318.6721C479.5318,-252.0585 472.4466,-144.3636 450.8962,-54 449.465,-47.9988 447.2544,-41.6616 445.0094,-36.0048\" fill=\"none\" stroke=\"#000000\" stroke-dasharray=\"5,2\"/>\n",
       "<text fill=\"#000000\" font-family=\"Times,serif\" font-size=\"14.00\" text-anchor=\"middle\" x=\"481.8962\" y=\"-164.5428\">0</text>\n",
       "</g>\n",
       "<!-- n5470271312&#45;&#45;n5470270224 -->\n",
       "<g class=\"edge\" id=\"edge4\">\n",
       "<title>n5470271312--n5470270224</title>\n",
       "<path d=\"M429.5929,-347.4883C405.343,-332.4137 376.0521,-314.8957 348.8962,-300.4856 300.9386,-275.0371 281.7217,-281.5305 237.8962,-249.4856 226.0376,-240.8147 214.618,-230.0099 204.4461,-219.1393\" fill=\"none\" stroke=\"#000000\"/>\n",
       "<text fill=\"#000000\" font-family=\"Times,serif\" font-size=\"14.00\" text-anchor=\"middle\" x=\"308.8962\" y=\"-271.2856\">1</text>\n",
       "</g>\n",
       "<!-- n5470271184 -->\n",
       "<g class=\"node\" id=\"node5\">\n",
       "<title>n5470271184</title>\n",
       "<ellipse cx=\"482.8962\" cy=\"-688.1044\" fill=\"none\" rx=\"42.7926\" ry=\"42.7926\" stroke=\"#000000\"/>\n",
       "<text fill=\"#000000\" font-family=\"Times,serif\" font-size=\"14.00\" text-anchor=\"middle\" x=\"482.8962\" y=\"-684.4044\">ram_496</text>\n",
       "</g>\n",
       "<!-- n5470271184&#45;&#45;n4402227792 -->\n",
       "<g class=\"edge\" id=\"edge5\">\n",
       "<title>n5470271184--n4402227792</title>\n",
       "<path d=\"M499.7651,-648.3465C517.5657,-604.0577 544.4589,-529.8709 554.8962,-462.9712 566.0282,-391.6185 565.5292,-371.9143 554.8962,-300.4856 540.2926,-202.3837 534.1214,-175.7771 489.8962,-87 480.4667,-68.0714 465.4999,-49.21 453.8723,-36.0033\" fill=\"none\" stroke=\"#000000\" stroke-dasharray=\"5,2\"/>\n",
       "<text fill=\"#000000\" font-family=\"Times,serif\" font-size=\"14.00\" text-anchor=\"middle\" x=\"555.8962\" y=\"-271.2856\">0</text>\n",
       "</g>\n",
       "<!-- n5470271184&#45;&#45;n5470271312 -->\n",
       "<g class=\"edge\" id=\"edge6\">\n",
       "<title>n5470271184--n5470271312</title>\n",
       "<path d=\"M482.8962,-645.1815C482.8962,-593.0585 482.8962,-504.7042 482.8962,-444.8299\" fill=\"none\" stroke=\"#000000\"/>\n",
       "<text fill=\"#000000\" font-family=\"Times,serif\" font-size=\"14.00\" text-anchor=\"middle\" x=\"486.8962\" y=\"-540.3156\">1</text>\n",
       "</g>\n",
       "<!-- n5470270736 -->\n",
       "<g class=\"node\" id=\"node6\">\n",
       "<title>n5470270736</title>\n",
       "<ellipse cx=\"327.8962\" cy=\"-168.2428\" fill=\"none\" rx=\"81.4863\" ry=\"81.4863\" stroke=\"#000000\"/>\n",
       "<text fill=\"#000000\" font-family=\"Times,serif\" font-size=\"14.00\" text-anchor=\"middle\" x=\"327.8962\" y=\"-164.5428\">battery_power_448</text>\n",
       "</g>\n",
       "<!-- n5470270736&#45;&#45;n4402227792 -->\n",
       "<g class=\"edge\" id=\"edge7\">\n",
       "<title>n5470270736--n4402227792</title>\n",
       "<path d=\"M375.7052,-102.3441C393.2087,-78.2177 411.647,-52.8028 423.6507,-36.2573\" fill=\"none\" stroke=\"#000000\" stroke-dasharray=\"5,2\"/>\n",
       "<text fill=\"#000000\" font-family=\"Times,serif\" font-size=\"14.00\" text-anchor=\"middle\" x=\"413.8962\" y=\"-57.8\">0</text>\n",
       "</g>\n",
       "<!-- n5470270736&#45;&#45;n4402227856 -->\n",
       "<g class=\"edge\" id=\"edge8\">\n",
       "<title>n5470270736--n4402227856</title>\n",
       "<path d=\"M269.1753,-111.3504C259.0964,-102.737 248.4579,-94.3021 237.8962,-87 203.1354,-62.9675 158.9032,-41.7964 130.984,-29.4409\" fill=\"none\" stroke=\"#000000\"/>\n",
       "<text fill=\"#000000\" font-family=\"Times,serif\" font-size=\"14.00\" text-anchor=\"middle\" x=\"209.8962\" y=\"-57.8\">1</text>\n",
       "</g>\n",
       "<!-- n5470269968 -->\n",
       "<g class=\"node\" id=\"node7\">\n",
       "<title>n5470269968</title>\n",
       "<ellipse cx=\"346.8962\" cy=\"-544.0156\" fill=\"none\" rx=\"63.0888\" ry=\"63.0888\" stroke=\"#000000\"/>\n",
       "<text fill=\"#000000\" font-family=\"Times,serif\" font-size=\"14.00\" text-anchor=\"middle\" x=\"346.8962\" y=\"-540.3156\">px_width_510</text>\n",
       "</g>\n",
       "<!-- n5470269968&#45;&#45;n4402227792 -->\n",
       "<g class=\"edge\" id=\"edge9\">\n",
       "<title>n5470269968--n4402227792</title>\n",
       "<path d=\"M364.4294,-483.3685C380.8385,-424.2067 404.7407,-331.41 417.8962,-249.4856 430.5549,-170.6547 434.9981,-75.2894 436.3616,-36.1234\" fill=\"none\" stroke=\"#000000\" stroke-dasharray=\"5,2\"/>\n",
       "<text fill=\"#000000\" font-family=\"Times,serif\" font-size=\"14.00\" text-anchor=\"middle\" x=\"417.8962\" y=\"-271.2856\">0</text>\n",
       "</g>\n",
       "<!-- n5470269968&#45;&#45;n5470270736 -->\n",
       "<g class=\"edge\" id=\"edge10\">\n",
       "<title>n5470269968--n5470270736</title>\n",
       "<path d=\"M343.6946,-480.6958C340.4795,-417.1097 335.5128,-318.8802 332.0079,-249.5629\" fill=\"none\" stroke=\"#000000\"/>\n",
       "<text fill=\"#000000\" font-family=\"Times,serif\" font-size=\"14.00\" text-anchor=\"middle\" x=\"345.8962\" y=\"-378.0284\">1</text>\n",
       "</g>\n",
       "<!-- n5470270160 -->\n",
       "<g class=\"node\" id=\"node8\">\n",
       "<title>n5470270160</title>\n",
       "<ellipse cx=\"135.8962\" cy=\"-381.7284\" fill=\"none\" rx=\"81.4863\" ry=\"81.4863\" stroke=\"#000000\"/>\n",
       "<text fill=\"#000000\" font-family=\"Times,serif\" font-size=\"14.00\" text-anchor=\"middle\" x=\"135.8962\" y=\"-378.0284\">battery_power_448</text>\n",
       "</g>\n",
       "<!-- n5470270160&#45;&#45;n4402227856 -->\n",
       "<g class=\"edge\" id=\"edge12\">\n",
       "<title>n5470270160--n4402227856</title>\n",
       "<path d=\"M100.1179,-308.4583C92.5924,-289.6736 85.7655,-269.1967 81.8962,-249.4856 67.9855,-178.6222 70.7956,-158.3576 81.8962,-87 84.6599,-69.2338 91.2007,-49.7859 96.4364,-36.0786\" fill=\"none\" stroke=\"#000000\"/>\n",
       "<text fill=\"#000000\" font-family=\"Times,serif\" font-size=\"14.00\" text-anchor=\"middle\" x=\"85.8962\" y=\"-164.5428\">1</text>\n",
       "</g>\n",
       "<!-- n5470270160&#45;&#45;n5470270224 -->\n",
       "<g class=\"edge\" id=\"edge11\">\n",
       "<title>n5470270160--n5470270224</title>\n",
       "<path d=\"M146.4818,-301.0186C149.4397,-278.4659 152.6142,-254.2621 155.4321,-232.7774\" fill=\"none\" stroke=\"#000000\" stroke-dasharray=\"5,2\"/>\n",
       "<text fill=\"#000000\" font-family=\"Times,serif\" font-size=\"14.00\" text-anchor=\"middle\" x=\"153.8962\" y=\"-271.2856\">0</text>\n",
       "</g>\n",
       "<!-- n5470270032 -->\n",
       "<g class=\"node\" id=\"node9\">\n",
       "<title>n5470270032</title>\n",
       "<ellipse cx=\"236.8962\" cy=\"-688.1044\" fill=\"none\" rx=\"63.0888\" ry=\"63.0888\" stroke=\"#000000\"/>\n",
       "<text fill=\"#000000\" font-family=\"Times,serif\" font-size=\"14.00\" text-anchor=\"middle\" x=\"236.8962\" y=\"-684.4044\">px_width_510</text>\n",
       "</g>\n",
       "<!-- n5470270032&#45;&#45;n5470270224 -->\n",
       "<g class=\"edge\" id=\"edge13\">\n",
       "<title>n5470270032--n5470270224</title>\n",
       "<path d=\"M242.8691,-625.325C248.4846,-547.8089 252.5208,-412.4851 225.8962,-300.4856 219.7092,-274.4594 208.092,-247.4252 196.5709,-224.6338\" fill=\"none\" stroke=\"#000000\" stroke-dasharray=\"5,2\"/>\n",
       "<text fill=\"#000000\" font-family=\"Times,serif\" font-size=\"14.00\" text-anchor=\"middle\" x=\"248.8962\" y=\"-378.0284\">0</text>\n",
       "</g>\n",
       "<!-- n5470270032&#45;&#45;n5470270160 -->\n",
       "<g class=\"edge\" id=\"edge14\">\n",
       "<title>n5470270032--n5470270160</title>\n",
       "<path d=\"M217.0624,-627.9399C201.1203,-579.5807 178.6161,-511.3161 161.3462,-458.9291\" fill=\"none\" stroke=\"#000000\"/>\n",
       "<text fill=\"#000000\" font-family=\"Times,serif\" font-size=\"14.00\" text-anchor=\"middle\" x=\"212.8962\" y=\"-540.3156\">1</text>\n",
       "</g>\n",
       "<!-- n5470270288 -->\n",
       "<g class=\"node\" id=\"node10\">\n",
       "<title>n5470270288</title>\n",
       "<ellipse cx=\"266.8962\" cy=\"-865.1932\" fill=\"none\" rx=\"63.0888\" ry=\"63.0888\" stroke=\"#000000\"/>\n",
       "<text fill=\"#000000\" font-family=\"Times,serif\" font-size=\"14.00\" text-anchor=\"middle\" x=\"266.8962\" y=\"-861.4932\">px_width_496</text>\n",
       "</g>\n",
       "<!-- n5470270288&#45;&#45;n5470269968 -->\n",
       "<g class=\"edge\" id=\"edge15\">\n",
       "<title>n5470270288--n5470269968</title>\n",
       "<path d=\"M290.6496,-806.6281C297.204,-788.9976 303.8833,-769.4646 308.8962,-751.1488 321.974,-703.3663 331.8536,-648.1366 338.2568,-606.7298\" fill=\"none\" stroke=\"#000000\" stroke-dasharray=\"5,2\"/>\n",
       "<text fill=\"#000000\" font-family=\"Times,serif\" font-size=\"14.00\" text-anchor=\"middle\" x=\"306.8962\" y=\"-772.9488\">0</text>\n",
       "</g>\n",
       "<!-- n5470270288&#45;&#45;n5470270032 -->\n",
       "<g class=\"edge\" id=\"edge16\">\n",
       "<title>n5470270288--n5470270032</title>\n",
       "<path d=\"M256.3193,-802.7583C253.4346,-785.7301 250.3103,-767.2871 247.4281,-750.2737\" fill=\"none\" stroke=\"#000000\"/>\n",
       "<text fill=\"#000000\" font-family=\"Times,serif\" font-size=\"14.00\" text-anchor=\"middle\" x=\"255.8962\" y=\"-772.9488\">1</text>\n",
       "</g>\n",
       "<!-- n5470269584 -->\n",
       "<g class=\"node\" id=\"node11\">\n",
       "<title>n5470269584</title>\n",
       "<ellipse cx=\"334.8962\" cy=\"-1022.1338\" fill=\"none\" rx=\"42.7926\" ry=\"42.7926\" stroke=\"#000000\"/>\n",
       "<text fill=\"#000000\" font-family=\"Times,serif\" font-size=\"14.00\" text-anchor=\"middle\" x=\"334.8962\" y=\"-1018.4338\">ram_496</text>\n",
       "</g>\n",
       "<!-- n5470269584&#45;&#45;n5470269968 -->\n",
       "<g class=\"edge\" id=\"edge17\">\n",
       "<title>n5470269584--n5470269968</title>\n",
       "<path d=\"M336.9246,-979.1365C337.6266,-963.1568 338.3688,-944.8718 338.8962,-928.2376 342.4801,-815.2046 344.8253,-683.4133 346.0009,-607.2563\" fill=\"none\" stroke=\"#000000\" stroke-dasharray=\"5,2\"/>\n",
       "<text fill=\"#000000\" font-family=\"Times,serif\" font-size=\"14.00\" text-anchor=\"middle\" x=\"345.8962\" y=\"-861.4932\">0</text>\n",
       "</g>\n",
       "<!-- n5470269584&#45;&#45;n5470270288 -->\n",
       "<g class=\"edge\" id=\"edge18\">\n",
       "<title>n5470269584--n5470270288</title>\n",
       "<path d=\"M317.7369,-982.5311C309.9467,-964.5516 300.5784,-942.9301 292.0177,-923.1723\" fill=\"none\" stroke=\"#000000\"/>\n",
       "<text fill=\"#000000\" font-family=\"Times,serif\" font-size=\"14.00\" text-anchor=\"middle\" x=\"310.8962\" y=\"-950.0376\">1</text>\n",
       "</g>\n",
       "<!-- n5470271824 -->\n",
       "<g class=\"node\" id=\"node12\">\n",
       "<title>n5470271824</title>\n",
       "<ellipse cx=\"334.8962\" cy=\"-1158.9262\" fill=\"none\" rx=\"42.7926\" ry=\"42.7926\" stroke=\"#000000\"/>\n",
       "<text fill=\"#000000\" font-family=\"Times,serif\" font-size=\"14.00\" text-anchor=\"middle\" x=\"334.8962\" y=\"-1155.2262\">ram_504</text>\n",
       "</g>\n",
       "<!-- n5470271824&#45;&#45;n5470271184 -->\n",
       "<g class=\"edge\" id=\"edge19\">\n",
       "<title>n5470271824--n5470271184</title>\n",
       "<path d=\"M357.916,-1122.5333C367.8962,-1105.5565 379.0646,-1084.7768 386.8962,-1065.03 433.3257,-947.962 463.0565,-801.4181 475.7774,-730.4777\" fill=\"none\" stroke=\"#000000\" stroke-dasharray=\"5,2\"/>\n",
       "<text fill=\"#000000\" font-family=\"Times,serif\" font-size=\"14.00\" text-anchor=\"middle\" x=\"429.8962\" y=\"-950.0376\">0</text>\n",
       "</g>\n",
       "<!-- n5470271824&#45;&#45;n5470269584 -->\n",
       "<g class=\"edge\" id=\"edge20\">\n",
       "<title>n5470271824--n5470269584</title>\n",
       "<path d=\"M334.8962,-1116.0195C334.8962,-1099.8788 334.8962,-1081.5281 334.8962,-1065.3585\" fill=\"none\" stroke=\"#000000\"/>\n",
       "<text fill=\"#000000\" font-family=\"Times,serif\" font-size=\"14.00\" text-anchor=\"middle\" x=\"338.8962\" y=\"-1086.83\">1</text>\n",
       "</g>\n",
       "<!-- n5437771600 -->\n",
       "<g class=\"node\" id=\"node13\">\n",
       "<title>n5437771600</title>\n",
       "<ellipse cx=\"42.8962\" cy=\"-1295.7186\" fill=\"none\" rx=\"42.7926\" ry=\"42.7926\" stroke=\"#000000\"/>\n",
       "<text fill=\"#000000\" font-family=\"Times,serif\" font-size=\"14.00\" text-anchor=\"middle\" x=\"42.8962\" y=\"-1292.0186\">ram_480</text>\n",
       "</g>\n",
       "<!-- n5437771600&#45;&#45;n4402227856 -->\n",
       "<g class=\"edge\" id=\"edge22\">\n",
       "<title>n5437771600--n4402227856</title>\n",
       "<path d=\"M35.3647,-1253.3518C31.2148,-1226.407 26.8962,-1190.7273 26.8962,-1158.9262 26.8962,-1158.9262 26.8962,-1158.9262 26.8962,-168.2428 26.8962,-115.7781 64.542,-63.2272 87.1883,-36.3611\" fill=\"none\" stroke=\"#000000\"/>\n",
       "<text fill=\"#000000\" font-family=\"Times,serif\" font-size=\"14.00\" text-anchor=\"middle\" x=\"30.8962\" y=\"-772.9488\">1</text>\n",
       "</g>\n",
       "<!-- n5437771600&#45;&#45;n5470271824 -->\n",
       "<g class=\"edge\" id=\"edge21\">\n",
       "<title>n5437771600--n5470271824</title>\n",
       "<path d=\"M81.9736,-1277.4121C137.9194,-1251.2033 240.2325,-1203.273 296.0501,-1177.1243\" fill=\"none\" stroke=\"#000000\" stroke-dasharray=\"5,2\"/>\n",
       "<text fill=\"#000000\" font-family=\"Times,serif\" font-size=\"14.00\" text-anchor=\"middle\" x=\"200.8962\" y=\"-1223.6224\">0</text>\n",
       "</g>\n",
       "</g>\n",
       "</svg>"
      ],
      "text/plain": [
       "<IPython.core.display.SVG object>"
      ]
     },
     "metadata": {},
     "output_type": "display_data"
    }
   ],
   "source": [
    "%dotobj mid_logical_f_desc"
   ]
  },
  {
   "cell_type": "markdown",
   "id": "advanced-benefit",
   "metadata": {},
   "source": [
    "### Complex ruleset without implication"
   ]
  },
  {
   "cell_type": "markdown",
   "id": "associate-history",
   "metadata": {},
   "source": [
    "#### The ruleset as a reminder:\n"
   ]
  },
  {
   "cell_type": "raw",
   "id": "periodic-hawaiian",
   "metadata": {},
   "source": [
    "middle_dnf = ['ssc_p > 64.00 AND hsc_p > 65.00', \n",
    "              'ssc_p > 52.00 AND hsc_p > 52.00 AND degree_t != Sci&Tech AND mba_p <= 58.78',\n",
    "              'ssc_p > 32.00 AND degree_t != Sci&Tech']"
   ]
  },
  {
   "cell_type": "raw",
   "id": "alpine-courage",
   "metadata": {},
   "source": [
    "And(Or(And(ssc_p_504, hsc_p_496), And(ssc_p_511, hsc_p_511, degree_t_c_nSciTech, mba_p_3), And(ssc_p_511, degree_t_c_nSciTech)), Implies(ssc_p_504, ssc_p_511), Implies(ssc_p_504, ssc_p_511), Implies(hsc_p_496, hsc_p_511))"
   ]
  },
  {
   "cell_type": "raw",
   "id": "durable-former",
   "metadata": {},
   "source": [
    "ssc_p_496 & hsc_p_480 | ssc_p_510 & hsc_p_510 & degree_t_13 & mba_p_3 | ssc_p_511 & degree_t_13"
   ]
  },
  {
   "cell_type": "code",
   "execution_count": null,
   "id": "binary-capital",
   "metadata": {
    "scrolled": false
   },
   "outputs": [],
   "source": [
    "%dotobj expr2bdd(mid_f_desc.get_expr_w_imp())"
   ]
  },
  {
   "cell_type": "markdown",
   "id": "featured-honey",
   "metadata": {},
   "source": [
    "### Order does not matter the library will optimise"
   ]
  },
  {
   "cell_type": "code",
   "execution_count": null,
   "id": "armed-client",
   "metadata": {
    "scrolled": false
   },
   "outputs": [],
   "source": [
    "%dotobj mid_imp_asc"
   ]
  },
  {
   "cell_type": "code",
   "execution_count": null,
   "id": "dominican-geology",
   "metadata": {},
   "outputs": [],
   "source": [
    "expr2truthtable(mid_f_asc)"
   ]
  }
 ],
 "metadata": {
  "kernelspec": {
   "display_name": "Python 3",
   "language": "python",
   "name": "python3"
  },
  "language_info": {
   "codemirror_mode": {
    "name": "ipython",
    "version": 3
   },
   "file_extension": ".py",
   "mimetype": "text/x-python",
   "name": "python",
   "nbconvert_exporter": "python",
   "pygments_lexer": "ipython3",
   "version": "3.7.10"
  }
 },
 "nbformat": 4,
 "nbformat_minor": 5
}
